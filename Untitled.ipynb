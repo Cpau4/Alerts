{
 "cells": [
  {
   "cell_type": "code",
   "execution_count": 1,
   "metadata": {},
   "outputs": [
    {
     "name": "stdout",
     "output_type": "stream",
     "text": [
      "22:1:32, updating dictionary\n",
      "22:1:39, finished updating dictionary\n",
      "22:2:36, start checking 5%\n",
      "COIN\n",
      "IAG.MC\n",
      "NIU\n",
      "NAS.OL\n",
      "3CP.F\n",
      "JMIA\n",
      "IZEA\n",
      "ZEPP\n",
      "ABNB\n",
      "BABA\n",
      "AMZN\n",
      "FIA1S.HE\n",
      "CRSP\n",
      "GRF.MC\n",
      "AMD\n",
      "KO\n",
      "T\n",
      "BAYN.DE\n",
      "5% down: BAYN.DE paucase4@gmail.com\n",
      "NVDA\n",
      "HPE\n",
      "AAPL\n",
      "MSFT\n",
      "LUV\n",
      "VZ\n",
      "FB\n",
      "CSCO\n",
      "JNJ\n",
      "CVS\n",
      "AAL\n",
      "NCLH\n",
      "GRWG\n",
      "22:3:37, finished checking 5%\n"
     ]
    }
   ],
   "source": [
    "%run Testfile.py"
   ]
  },
  {
   "cell_type": "code",
   "execution_count": null,
   "metadata": {},
   "outputs": [],
   "source": [
    "# d = {'AA': [1,2],\"e\":1}\n",
    "# d.keys()[0]"
   ]
  },
  {
   "cell_type": "code",
   "execution_count": null,
   "metadata": {},
   "outputs": [],
   "source": []
  }
 ],
 "metadata": {
  "kernelspec": {
   "display_name": "Python 3",
   "language": "python",
   "name": "python3"
  },
  "language_info": {
   "codemirror_mode": {
    "name": "ipython",
    "version": 3
   },
   "file_extension": ".py",
   "mimetype": "text/x-python",
   "name": "python",
   "nbconvert_exporter": "python",
   "pygments_lexer": "ipython3",
   "version": "3.7.6"
  }
 },
 "nbformat": 4,
 "nbformat_minor": 4
}
