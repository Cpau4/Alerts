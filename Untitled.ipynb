{
 "cells": [
  {
   "cell_type": "code",
   "execution_count": 1,
   "metadata": {},
   "outputs": [
    {
     "name": "stdout",
     "output_type": "stream",
     "text": [
      "got here\n",
      "got here\n",
      "got here\n",
      "got here\n",
      "adding\n",
      "$\n",
      "adding\n",
      "EUR\n",
      "€\n",
      "changed\n",
      "adding\n",
      "EUR\n",
      "€\n",
      "changed\n",
      "adding\n",
      "NOK\n",
      "Start\n",
      "Rendiment Setmanal: Setmana 30, del dilluns 2021-07-26\n",
      "Rendiment Setmanal: Setmana 30, del dilluns 2021-07-26\n",
      "180.36 180.36\n",
      "20.8 20.8\n",
      "2.898 2.898\n",
      "10.9 10.9\n"
     ]
    }
   ],
   "source": [
    "from HTML_Email import Emailer\n",
    "recipient = \"paucase4@gmail.com\"\n",
    "tickers = [\"GME\",\"GRF.MC\",\"3CP.F\",\"NAS.OL\"]\n",
    "name = \"Pau\"\n",
    "%run Testfile.py"
   ]
  },
  {
   "cell_type": "code",
   "execution_count": null,
   "metadata": {},
   "outputs": [],
   "source": [
    "monday = date.today() - timedelta(days = 5)\n",
    "week = monday.isocalendar()[1]"
   ]
  },
  {
   "cell_type": "code",
   "execution_count": null,
   "metadata": {},
   "outputs": [],
   "source": [
    "import time\n",
    "from requests_html import HTMLSession\n",
    "import yfinance as yf\n",
    "\n",
    "from datetime import datetime, date, timedelta\n",
    "import calendar\n",
    "\n",
    "def baixar_dades_dies(ticker, dies_anteriors):\n",
    "        dades = yf.Ticker(ticker)\n",
    "        \n",
    "        avui = datetime.now()\n",
    "        \n",
    "        dies_anteriors = timedelta(days = dies_anteriors)\n",
    "        dia_fa_x_dies = avui - dies_anteriors \n",
    "        \n",
    "        preus_i_volums = data = dades.history(period='1d', start=dia_fa_x_dies , end=avui)\n",
    "        \n",
    "        return preus_i_volums\n",
    "def monthly_performance(ticker): # this will run on the first of each month\n",
    "        year_40_before = datetime.now() - timedelta(days = 40)\n",
    "        year_of_last_month = year_40_before.year\n",
    "        last_day_of_last_month = calendar.monthrange(year_of_last_month,datetime.now().month-1)[1]\n",
    "        data = baixar_dades_dies(ticker,35)['Close']\n",
    "        print(data.head(14))\n",
    "        i = 0\n",
    "        b = True\n",
    "        while b == True and i < 35:\n",
    "            start_date = '{year}-{month}-{day}'.format(year = year_of_last_month,month = datetime.now().month-1,day = last_day_of_last_month-i)\n",
    "            try:\n",
    "                start_price = round(data[str(start_date)],4)\n",
    "                print(start_price)\n",
    "                b = False\n",
    "                print(start_date)\n",
    "            except:\n",
    "                i+=1\n",
    "        try:\n",
    "            end_price = data[-2]\n",
    "            change = round((end_price/start_price-1)*100,2)\n",
    "            return round(start_price,4),round(end_price,4),change\n",
    "        \n",
    "        except:\n",
    "            print(\"Unable to calculate monthly performance | Possibly due to a mistake in the code\")\n",
    "            return -10,-10,-101\n"
   ]
  },
  {
   "cell_type": "code",
   "execution_count": null,
   "metadata": {},
   "outputs": [],
   "source": [
    "monthly_performance(\"TSLA\")"
   ]
  },
  {
   "cell_type": "code",
   "execution_count": null,
   "metadata": {},
   "outputs": [],
   "source": [
    "from datetime import datetime\n",
    "datetime.today().day"
   ]
  }
 ],
 "metadata": {
  "kernelspec": {
   "display_name": "Python 3",
   "language": "python",
   "name": "python3"
  },
  "language_info": {
   "codemirror_mode": {
    "name": "ipython",
    "version": 3
   },
   "file_extension": ".py",
   "mimetype": "text/x-python",
   "name": "python",
   "nbconvert_exporter": "python",
   "pygments_lexer": "ipython3",
   "version": "3.7.6"
  }
 },
 "nbformat": 4,
 "nbformat_minor": 4
}
